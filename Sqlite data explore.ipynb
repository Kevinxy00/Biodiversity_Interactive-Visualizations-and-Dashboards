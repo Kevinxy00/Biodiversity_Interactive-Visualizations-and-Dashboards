{
 "cells": [
  {
   "cell_type": "code",
   "execution_count": 171,
   "metadata": {
    "collapsed": true
   },
   "outputs": [],
   "source": [
    "from flask import Flask, jsonify, render_template\n",
    "from sqlalchemy import create_engine, inspect, MetaData\n",
    "from sqlalchemy.orm import Session\n",
    "from sqlalchemy.ext.automap import automap_base\n"
   ]
  },
  {
   "cell_type": "code",
   "execution_count": 172,
   "metadata": {
    "collapsed": true
   },
   "outputs": [],
   "source": [
    "app = Flask(__name__)\n"
   ]
  },
  {
   "cell_type": "code",
   "execution_count": 173,
   "metadata": {
    "collapsed": true
   },
   "outputs": [],
   "source": [
    "# *** Use SQLAlchemy `create_engine` to connect to your sqlite database. ***\n",
    "engine = create_engine(\"sqlite:///DataSets/belly_button_biodiversity.sqlite\")\n",
    "#    automapping the columns to sqlalchemy base object\n",
    "Base = automap_base()\n",
    "# reflect the tables\n",
    "Base.prepare(engine, reflect=True)\n"
   ]
  },
  {
   "cell_type": "code",
   "execution_count": 174,
   "metadata": {},
   "outputs": [
    {
     "data": {
      "text/plain": [
       "['otu', 'samples', 'samples_metadata']"
      ]
     },
     "execution_count": 174,
     "metadata": {},
     "output_type": "execute_result"
    }
   ],
   "source": [
    "# inspect tables and columns\n",
    "inspector = inspect(engine)\n",
    "\n",
    "inspector.get_table_names()\n"
   ]
  },
  {
   "cell_type": "code",
   "execution_count": 175,
   "metadata": {},
   "outputs": [
    {
     "data": {
      "text/plain": [
       "['otu', 'samples', 'samples_metadata']"
      ]
     },
     "execution_count": 175,
     "metadata": {},
     "output_type": "execute_result"
    }
   ],
   "source": [
    "# make sure table keys are present and same as table names\n",
    "Base.classes.keys()"
   ]
  },
  {
   "cell_type": "code",
   "execution_count": 193,
   "metadata": {},
   "outputs": [
    {
     "name": "stdout",
     "output_type": "stream",
     "text": [
      "SAMPLEID INTEGER\n",
      "EVENT TEXT\n",
      "ETHNICITY TEXT\n",
      "GENDER TEXT\n",
      "AGE INTEGER\n",
      "WFREQ INTEGER\n",
      "BBTYPE TEXT\n",
      "LOCATION TEXT\n",
      "COUNTRY012 TEXT\n",
      "ZIP012 INTEGER\n",
      "COUNTRY1319 TEXT\n",
      "ZIP1319 INTEGER\n",
      "DOG TEXT\n",
      "CAT TEXT\n",
      "IMPSURFACE013 INTEGER\n",
      "NPP013 FLOAT\n",
      "MMAXTEMP013 FLOAT\n",
      "PFC013 FLOAT\n",
      "IMPSURFACE1319 INTEGER\n",
      "NPP1319 FLOAT\n",
      "MMAXTEMP1319 FLOAT\n",
      "PFC1319 FLOAT\n"
     ]
    }
   ],
   "source": [
    "# print list of column names\n",
    "columns_otu = inspector.get_columns(\"otu\")\n",
    "columns_samples = inspector.get_columns(\"samples\")\n",
    "columns_samples_meta = inspector.get_columns(\"samples_metadata\")\n",
    "for each in columns_samples_meta:\n",
    "        print(each[\"name\"], each[\"type\"])\n",
    "        "
   ]
  },
  {
   "cell_type": "code",
   "execution_count": 177,
   "metadata": {
    "collapsed": true
   },
   "outputs": [],
   "source": [
    "# saving references to each table\n",
    "otu_class = Base.classes.otu\n",
    "samples_class = Base.classes.samples\n",
    "meta_class = Base.classes.samples_metadata\n"
   ]
  },
  {
   "cell_type": "code",
   "execution_count": 178,
   "metadata": {},
   "outputs": [
    {
     "name": "stdout",
     "output_type": "stream",
     "text": [
      "Caucasian\n"
     ]
    }
   ],
   "source": [
    "\n",
    "session = Session(engine)\n",
    "\n",
    "# two ways to inspect first 10 rows \n",
    "results = session.execute(\"SELECT * FROM otu LIMIT 15\")\n",
    "\n",
    "# testing grounds for session.query\n",
    "sample = \"BB_940\"\n",
    "sample = sample.replace('BB_','')\n",
    "item = session.query(meta_class).filter(meta_class.SAMPLEID == sample).first()\n",
    "print(item.ETHNICITY)\n"
   ]
  },
  {
   "cell_type": "markdown",
   "metadata": {},
   "source": [
    "### Flask Routes"
   ]
  },
  {
   "cell_type": "code",
   "execution_count": 179,
   "metadata": {
    "collapsed": true
   },
   "outputs": [],
   "source": [
    "# *** create route that renders index.html template ***\n",
    "@app.route(\"/\")\n",
    "def home():\n",
    "    return render_template(\"index.html\")\n"
   ]
  },
  {
   "cell_type": "code",
   "execution_count": 180,
   "metadata": {
    "collapsed": true
   },
   "outputs": [],
   "source": [
    "# *** route for list of sample names ***\n",
    "@app.route(\"/names\")\n",
    "def list_names():\n",
    "    names_ls = []\n",
    "    for row in columns_samples:\n",
    "        # getting rid of the first column \"otu_id\"\n",
    "        if row[\"name\"] != \"otu_id\":\n",
    "            names_ls.append(row[\"name\"])\n",
    "    # returns list of sample names e.g. BB_943\n",
    "    return jsonify(names_ls)\n"
   ]
  },
  {
   "cell_type": "code",
   "execution_count": 181,
   "metadata": {
    "collapsed": true
   },
   "outputs": [],
   "source": [
    "# *** route for list of OTU descriptions ***\n",
    "@app.route(\"/otu\")\n",
    "def list_otu():\n",
    "    otu_ls = []\n",
    "    for item in session.query(otu_class.lowest_taxonomic_unit_found).all():\n",
    "        otu_ls.append(item)\n",
    "    # returns list of OTU descriptions (\"lowest taxonomic unit found\")\n",
    "    return jsonify(otu_ls)\n"
   ]
  },
  {
   "cell_type": "code",
   "execution_count": 182,
   "metadata": {},
   "outputs": [],
   "source": [
    "# *** route for list of metaData for a given sample. ***\n",
    "@app.route('/metadata/<sample>') # takes in a sample name arg. e.g. BB_940 \n",
    "def list_meta_sample(sample):\n",
    "    # First, transform input: get rid of \"BB_\" as only the number portions are in the metadata table.  \n",
    "    sample = sample.replace('BB_','')\n",
    "    \n",
    "    # Query all from metadata table where sample id matches. \n",
    "    # note: ID is unique, so only grab first result\n",
    "    meta_result = session.query(meta_class).filter(meta_class.SAMPLEID == sample).first()\n",
    "    # Append to a dictionary\n",
    "    sample_dict = {}\n",
    "    sample_dict = {\"AGE\":meta_result.AGE, \"BBTYPE\":meta_result.BBTYPE,\\\n",
    "                        \"ETHNICITY\":meta_result.ETHNICITY, \"GENDER\":meta_result.GENDER,\\\n",
    "                       \"LOCATION\":meta_result.LOCATION, \"SAMPLEID\":meta_result.SAMPLEID}\n",
    "    # Returns age, belly button type (In or Out), ethnicity, gender, location, & sample id\n",
    "    return jsonify(sample_dict)\n"
   ]
  },
  {
   "cell_type": "code",
   "execution_count": 183,
   "metadata": {},
   "outputs": [],
   "source": [
    "# *** route for Weekly Washing Frequency as a number ***\n",
    "@app.route('/wfreq/<sample>')\n",
    "def return_wash_freq(sample):\n",
    "    # First, transform input: get rid of \"BB_\" as only the number portions are in the metadata table.  \n",
    "    sample = sample.replace('BB_','')\n",
    "    # Query washing frequency from metadata table where sample id matches. \n",
    "    # note: ID is unique, so only grab first result\n",
    "    wfreq_result = session.query(meta_class.WFREQ).filter(meta_class.SAMPLEID == sample).first()\n",
    "    # Returns integer of washing frequency. \n",
    "    wfreq = wfreq_result[0] # note: wfreq_result is a list w/ one item. \n",
    "    return jsonify(wfreq)\n"
   ]
  },
  {
   "cell_type": "code",
   "execution_count": 184,
   "metadata": {},
   "outputs": [],
   "source": [
    "# *** route for OTU id's and sample values for a given sample ***\n",
    "@app.route('/samples/<sample>')\n",
    "def otuID_and_sampleValues(sample):\n",
    "    try: \n",
    "        # query all otu_id and inputted sample value, sorted.\n",
    "        otuID_query = session.query(samples_class.otu_id, getattr(samples_class, sample))\\\n",
    "        .order_by(getattr(samples_class, sample).desc()).all()\n",
    "        # result is a list of pairs, format==(otu_id, sample_value)\n",
    "        #\n",
    "        sorted_ls = [{}]\n",
    "        otuID_ls = []\n",
    "        sampVal_ls = []\n",
    "        # append each element in the pair to the appropriate list \n",
    "        for pair in otuID_query:\n",
    "            otuID_ls.append(pair[0])\n",
    "            sampVal_ls.append(pair[1])\n",
    "        #\n",
    "        # append list to appropriate dictionary in the sorted list\n",
    "        sorted_ls[0]['otu_ids'] = otuID_ls\n",
    "        sorted_ls[0][\"sample_values\"] = sampVal_ls\n",
    "        #\n",
    "        # return jsonified sorted list to the api route\n",
    "        return jsonify(sorted_ls)\n",
    "        \n",
    "    except AttributeError:\n",
    "        ''' try/except to catch where sample == (nonsense or bad format). \n",
    "        getattr will return attribute error if inputted sample not found. ''' \n",
    "        error_msg = {\"There was an attribute error\":\"Check the inputted sample to see if format is correct\"}\n",
    "        return jsonify(error_msg)\n",
    "        "
   ]
  },
  {
   "cell_type": "code",
   "execution_count": 192,
   "metadata": {},
   "outputs": [
    {
     "name": "stdout",
     "output_type": "stream",
     "text": [
      "[163, 126, 113, 78, 71]\n"
     ]
    }
   ],
   "source": [
    "# Testing Grounds\n",
    "sample_col = \"BB_940\"\n",
    "otuID_query = session.query(samples_class.otu_id, getattr(samples_class, sample_col))\\\n",
    "    .order_by(getattr(samples_class, sample_col).desc()).all()\n",
    "\n",
    "sorted_pair_ls = [{}]\n",
    "otuID_ls = []\n",
    "sampVal_ls = []\n",
    "for pair in otuID_query:\n",
    "    otuID_ls.append(pair[0])\n",
    "    sampVal_ls.append(pair[1])\n",
    "\n",
    "sorted_pair_ls[0]['otu_ids'] = otuID_ls\n",
    "sorted_pair_ls[0][\"sample_values\"] = sampVal_ls\n",
    "print(sorted_pair_ls[0][\"sample_values\"][0:5])"
   ]
  },
  {
   "cell_type": "code",
   "execution_count": 194,
   "metadata": {},
   "outputs": [
    {
     "name": "stderr",
     "output_type": "stream",
     "text": [
      " * Running on http://127.0.0.1:5000/ (Press CTRL+C to quit)\n"
     ]
    }
   ],
   "source": [
    "# *** run app ***\n",
    "if __name__ == \"__main__\":\n",
    "    app.run(debug=False)\n",
    "    "
   ]
  }
 ],
 "metadata": {
  "kernelspec": {
   "display_name": "Python (PythonData)",
   "language": "python",
   "name": "pythondata"
  },
  "language_info": {
   "codemirror_mode": {
    "name": "ipython",
    "version": 3
   },
   "file_extension": ".py",
   "mimetype": "text/x-python",
   "name": "python",
   "nbconvert_exporter": "python",
   "pygments_lexer": "ipython3",
   "version": "3.6.3"
  }
 },
 "nbformat": 4,
 "nbformat_minor": 2
}
